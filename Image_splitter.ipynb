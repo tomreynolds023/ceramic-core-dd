{
 "cells": [
  {
   "cell_type": "markdown",
   "id": "b234b036-c07a-44dc-854f-997f0af47764",
   "metadata": {},
   "source": [
    "#### Image splitting/cropping tool ##\n",
    "\n",
    "Takes an input image from a camera and splits into a number of 224x224 squares for input to the CNN\n",
    "\n",
    "Includes the option to overlap each sample, defaults to a 50% overlap."
   ]
  },
  {
   "cell_type": "markdown",
   "id": "7a67a7c0-7314-4177-b5eb-30b1d46c1ca1",
   "metadata": {},
   "source": [
    "<div class=\"alert alert-block alert-info\">\n",
    "<b>Tip:</b> Images with width/height that are multiples of 224 will work best, otherwise some of the image will be lost </div>"
   ]
  },
  {
   "cell_type": "markdown",
   "id": "d8a21101-8007-448d-a796-275307e8fb09",
   "metadata": {},
   "source": [
    "Import required libraries"
   ]
  },
  {
   "cell_type": "code",
   "execution_count": 1,
   "id": "bf99cd90-4056-4faa-9650-366386d25995",
   "metadata": {},
   "outputs": [],
   "source": [
    "from PIL import Image\n",
    "from itertools import product\n",
    "import os"
   ]
  },
  {
   "cell_type": "markdown",
   "id": "79e579ce-7e47-441a-b5c8-b0e8fa81f42d",
   "metadata": {},
   "source": [
    "Function to split the input image"
   ]
  },
  {
   "cell_type": "code",
   "execution_count": null,
   "id": "859eb3b1-e376-4f96-8be3-79043b40f5f6",
   "metadata": {},
   "outputs": [],
   "source": [
    "def split_image(filename, dir_in, dir_out, sample_size=224, overlap=0.5):\n",
    "    '''\n",
    "    Splits an image into samples of size sample_size with a specified overlap.\n",
    "    \n",
    "    Parameters:\n",
    "        filename (str): The name of the image file to split.\n",
    "        dir_in (str): The directory containing the input image. \n",
    "        dir_out (str): The directory to save the resulting samples.\n",
    "        sample_size (int): The size of each sample (default is 224).\n",
    "        overlap (float): The fraction of overlap between samples (default is 0.5).\n",
    "        \n",
    "    Returns:\n",
    "        None\n",
    "    '''\n",
    "    name, ext = os.path.splitext(filename)\n",
    "    img = Image.open(os.path.join(dir_in, filename))\n",
    "    w, h = img.size\n",
    "    \n",
    "    grid = product(range(0, h-h%sample_size, int(sample_size * overlap)), range(0, w-w%sample_size, int(sample_size * overlap)))\n",
    "    for i, j in grid:\n",
    "        box = (j, i, j+sample_size, i+sample_size)\n",
    "        out = os.path.join(dir_out, f'{name}_{i/sample_size}_{j/sample_size}{ext}')\n",
    "        img.crop(box).save(out)"
   ]
  },
  {
   "cell_type": "markdown",
   "id": "28121439-f3e6-41ab-9c1a-00bbf96d726c",
   "metadata": {},
   "source": [
    "Below is an example function call to see what the file and path names should look like"
   ]
  },
  {
   "cell_type": "code",
   "execution_count": null,
   "id": "f388c42d-6cdf-4a4e-b64e-973f9537f42a",
   "metadata": {},
   "outputs": [],
   "source": [
    "split_image('full_core1.jpg', 'image_split_demo/', 'image_split_demo/core_split/', 224, 0.5)"
   ]
  }
 ],
 "metadata": {
  "kernelspec": {
   "display_name": "Python 3 (ipykernel)",
   "language": "python",
   "name": "python3"
  },
  "language_info": {
   "codemirror_mode": {
    "name": "ipython",
    "version": 3
   },
   "file_extension": ".py",
   "mimetype": "text/x-python",
   "name": "python",
   "nbconvert_exporter": "python",
   "pygments_lexer": "ipython3",
   "version": "3.12.7"
  }
 },
 "nbformat": 4,
 "nbformat_minor": 5
}
